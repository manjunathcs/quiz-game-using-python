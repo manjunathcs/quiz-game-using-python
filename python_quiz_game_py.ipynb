{
  "nbformat": 4,
  "nbformat_minor": 0,
  "metadata": {
    "colab": {
      "provenance": [],
      "authorship_tag": "ABX9TyM4pLB5cuGUEa+H3y6q2rhy",
      "include_colab_link": true
    },
    "kernelspec": {
      "name": "python3",
      "display_name": "Python 3"
    },
    "language_info": {
      "name": "python"
    }
  },
  "cells": [
    {
      "cell_type": "markdown",
      "metadata": {
        "id": "view-in-github",
        "colab_type": "text"
      },
      "source": [
        "<a href=\"https://colab.research.google.com/github/manjunathcs/quiz-game-using-python/blob/main/python_quiz_game_py.ipynb\" target=\"_parent\"><img src=\"https://colab.research.google.com/assets/colab-badge.svg\" alt=\"Open In Colab\"/></a>"
      ]
    },
    {
      "cell_type": "code",
      "execution_count": 19,
      "metadata": {
        "colab": {
          "base_uri": "https://localhost:8080/"
        },
        "id": "iZRBV0LF0_f8",
        "outputId": "4332fdc7-21c0-4098-a90e-c569477b6a06"
      },
      "outputs": [
        {
          "output_type": "stream",
          "name": "stdout",
          "text": [
            "--------------------------------------\n",
            "Who was the first Prime Minister of India?\n",
            "a. Mahatma Gandhi\n",
            "b. Jawaharlal Nehru\n",
            "c. Sardar Pateld\n",
            "d. Dr. B.R. Ambedkar\n",
            "enter the option(a,b,c,d) :b\n",
            "CORRECT\n",
            "--------------------------------------\n",
            "Which Indian state is known as the Land of Five Rivers\n",
            "a.Uttar Pradesh\n",
            "b. Punjab\n",
            "c.Haryanad. Bihar\n",
            "enter the option(a,b,c,d) :b\n",
            "CORRECT\n",
            "--------------------------------------\n",
            "Which is the national animal of India?\n",
            "a. Lion\n",
            "b.Elephant\n",
            "c.Tiger\n",
            "d. Peacock\n",
            "enter the option(a,b,c,d) :b\n",
            "INCORRECT\n",
            "correct answer is c\n",
            "--------------------------------------\n",
            "Which Indian festival is known as the Festival of Lights\n",
            "a.Holi\n",
            "b. Diwali \n",
            "c.Navratri\n",
            "d. Pongal\n",
            "enter the option(a,b,c,d) :b\n",
            "CORRECT\n",
            "----------------------------------------------------\n",
            "RESULT\n",
            "-----------------------------------------------------\n",
            "answers: b b c b \n",
            "guesses: b b b b \n",
            "75.0\n"
          ]
        }
      ],
      "source": [
        "questions=(\"Who was the first Prime Minister of India?\",\n",
        "           \"Which Indian state is known as the Land of Five Rivers\",\n",
        "           \"Which is the national animal of India?\",\n",
        "           \"Which Indian festival is known as the Festival of Lights\")\n",
        "\n",
        "\n",
        "options=((\"a. Mahatma Gandhi\",\"b. Jawaharlal Nehru\",\"c. Sardar Pateld\",\"d. Dr. B.R. Ambedkar\"),\n",
        "         (\"a.Uttar Pradesh\",\"b. Punjab\" ,\"c.Haryana\" \"d. Bihar\"),\n",
        "         (\"a. Lion\",\"b.Elephant\",\"c.Tiger\",\"d. Peacock\"),\n",
        "         (\"a.Holi\" ,\"b. Diwali \",\"c.Navratri\" ,\"d. Pongal\"))\n",
        "\n",
        "\n",
        "answers=(\"b\",\"b\",\"c\",\"b\")\n",
        "\n",
        "guesses=[]\n",
        "score=0\n",
        "question_number=0\n",
        "\n",
        "for question in questions:\n",
        "  print(\"--------------------------------------\")\n",
        "  print(question)\n",
        "  for option in options[question_number]:\n",
        "    print(option)\n",
        "\n",
        "  guess=input(\"enter the option(a,b,c,d) :\").lower()\n",
        "  guesses.append(guess)\n",
        "\n",
        "  if guess==answers[question_number]:\n",
        "    print(\"CORRECT\")\n",
        "    score+=1\n",
        "  else:\n",
        "    print(\"INCORRECT\")\n",
        "    print(f\"correct answer is {answers[question_number]}\")\n",
        "  question_number+=1\n",
        "\n",
        "print(\"----------------------------------------------------\")\n",
        "print(\"RESULT\")\n",
        "print(\"-----------------------------------------------------\")\n",
        "print(\"answers: \",end=\"\")\n",
        "for answer in answers:\n",
        "  print(answer,end=\" \")\n",
        "print()\n",
        "\n",
        "\n",
        "\n",
        "print(\"guesses: \",end=\"\")\n",
        "for guess in guesses:\n",
        "  print(guess,end=\" \")\n",
        "print()\n",
        "\n",
        "\n",
        "score=(score/len(questions)*100)\n",
        "\n",
        "\n",
        "print(score)\n",
        "\n",
        "\n",
        "\n",
        "\n",
        "\n",
        "\n",
        "\n",
        "\n",
        "\n",
        "\n",
        "\n",
        "\n",
        "\n",
        "\n",
        "\n",
        "\n",
        "\n",
        "\n",
        "\n",
        "\n",
        "\n",
        "\n"
      ]
    },
    {
      "cell_type": "code",
      "source": [],
      "metadata": {
        "id": "PU7nIXbb1aul"
      },
      "execution_count": null,
      "outputs": []
    },
    {
      "cell_type": "code",
      "source": [],
      "metadata": {
        "id": "X2n9fuf81GOA"
      },
      "execution_count": null,
      "outputs": []
    },
    {
      "cell_type": "code",
      "source": [],
      "metadata": {
        "id": "wuSMpDP21GP6"
      },
      "execution_count": null,
      "outputs": []
    },
    {
      "cell_type": "code",
      "source": [],
      "metadata": {
        "id": "5zMyaQ891GR1"
      },
      "execution_count": null,
      "outputs": []
    },
    {
      "cell_type": "code",
      "source": [],
      "metadata": {
        "id": "15HQaHCe1GT_"
      },
      "execution_count": null,
      "outputs": []
    },
    {
      "cell_type": "code",
      "source": [],
      "metadata": {
        "id": "L3cmVJH01GXd"
      },
      "execution_count": null,
      "outputs": []
    }
  ]
}